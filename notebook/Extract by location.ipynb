{
 "cells": [
  {
   "cell_type": "code",
   "execution_count": 1,
   "id": "db96e034",
   "metadata": {},
   "outputs": [
    {
     "name": "stdout",
     "output_type": "stream",
     "text": [
      "Using matplotlib backend: <object object at 0x15af08b90>\n"
     ]
    }
   ],
   "source": [
    "import pdf2image\n",
    "try:\n",
    "    from PIL import Image\n",
    "except ImportError:\n",
    "    import Image\n",
    "import pytesseract\n",
    "from pytesseract import Output\n",
    "\n",
    "import os\n",
    "import matplotlib.pyplot as plt\n",
    "import matplotlib.image as mpimg\n",
    "import cv2\n",
    "import numpy as np\n",
    "import csv\n",
    "\n",
    "%matplotlib auto\n",
    "import re\n",
    "import csv"
   ]
  },
  {
   "cell_type": "code",
   "execution_count": 2,
   "id": "9ccb8d05",
   "metadata": {},
   "outputs": [],
   "source": [
    "# now, highlight keyword area found on the image\n",
    "def find_area(corr_ls,file_):\n",
    "    global image\n",
    "    global cache\n",
    "    image = cv2.imread(file_)\n",
    "    \n",
    "    cache = image.copy()\n",
    "    # ignore first crop as it refers to the whole page\n",
    "    invoice = cv2.imread(file_)\n",
    "    \n",
    "    for i,corr in enumerate(corr_ls):\n",
    "        image = cache.copy()\n",
    "        x,y,w,h = corr\n",
    "        cv2.rectangle(image, (x, y), (x + w, y + h), (36,255,12), 2)\n",
    "        cv2.imshow('crop', image)\n",
    "        cv2.waitKey(0)\n",
    "        cv2.destroyAllWindows() # destroys the window showing image\n",
    "        cv2.waitKey(1) #for mac OS"
   ]
  },
  {
   "cell_type": "code",
   "execution_count": 3,
   "id": "b54dd423",
   "metadata": {},
   "outputs": [],
   "source": [
    "def make_contour(im,cv2mode):\n",
    "\n",
    "    img2gray = cv2.cvtColor(im, cv2.COLOR_BGR2GRAY)\n",
    "    blur = cv2.GaussianBlur(img2gray, (7,7), 0)\n",
    "\n",
    "    ret, mask = cv2.threshold(blur, 0, 255, cv2.THRESH_BINARY_INV + cv2.THRESH_OTSU)\n",
    "\n",
    "    kernel = cv2.getStructuringElement(cv2.MORPH_RECT, (2,3))\n",
    "\n",
    "    dilation = cv2.dilate(mask,kernel,iterations = 2)\n",
    "\n",
    "\n",
    "    contours, hierarchy = cv2.findContours(dilation, mode=cv2mode, method=cv2.CHAIN_APPROX_SIMPLE) \n",
    "    #cv2mode = cv2.RETR_EXTERNAL , RETR_TREE\n",
    "    \n",
    "    return contours,hierarchy\n",
    "\n",
    "def ocr_core(file):\n",
    "    text = pytesseract.image_to_string(file,lang='tha+eng',config='-c preserve_interword_spaces=1')\n",
    "    return text"
   ]
  },
  {
   "cell_type": "code",
   "execution_count": 4,
   "id": "00c294d6",
   "metadata": {},
   "outputs": [],
   "source": [
    "im = cv2.imread('/Users/nichada/MyCode/Etda/pan-OCR/images/PO-150.png')"
   ]
  },
  {
   "cell_type": "markdown",
   "id": "9bc88e26",
   "metadata": {},
   "source": [
    "## - 5. - Crop New area by coordinate"
   ]
  },
  {
   "cell_type": "markdown",
   "id": "e86b6f00",
   "metadata": {},
   "source": [
    "- once we found the coordinate of the area of interest from the previous step 4."
   ]
  },
  {
   "cell_type": "code",
   "execution_count": 5,
   "id": "c1935a55",
   "metadata": {},
   "outputs": [],
   "source": [
    "#customise location\n",
    "\n",
    "corr_ls= [(53, 300, 610, 100) #seller\n",
    "        ,(53, 100, 610, 200) #address\n",
    "        ,(900,100,300,200) #doc_no\n",
    "                 ]\n",
    "\n",
    "ocr_ls= []\n",
    "\n",
    "\n",
    "for i in range(len(corr_ls[:])):\n",
    "    x,y,w,h = corr_ls[i:i+1][0]\n",
    "    \n",
    "    # I use index like this because find_area func was set to accept list of tuples\n",
    "    find_area(corr_ls[i:i+1],'/Users/nichada/MyCode/Etda/pan-OCR/images/PO-150.png')\n",
    "\n",
    "    # crop image before ocr\n",
    "    cropped = im[y :y +  h , x : x + w]\n",
    "\n",
    "    # ocr image\n",
    "    ocr_crop = ocr_core(cropped)\n",
    "\n",
    "    # pre-processing the ocr string\n",
    "    ocr_crop= ocr_crop.replace('\\n',' ')\n",
    "    \n",
    "    ocr_ls.append(ocr_crop)"
   ]
  },
  {
   "cell_type": "code",
   "execution_count": null,
   "id": "30152b9d",
   "metadata": {},
   "outputs": [],
   "source": []
  },
  {
   "cell_type": "code",
   "execution_count": 6,
   "id": "311c929a",
   "metadata": {},
   "outputs": [
    {
     "data": {
      "text/plain": [
       "['ผู้ขาย/ผู้รับจ้าง บริษัท ไทยไลฟ์สตรีมเอกซ์ จํากัด  1201/44 ซอยลาดพร้าว 94 (ปัญจมิตร) แขวงพลับพลา เขต วังทองหลาง กรุงเทพฯ 10310',\n",
       " 'อาคารเดอะ ไนน์ ทาวเวอร์ แกรนด์ พระรามเก้า (อาคารบี) ชั้น 20-22 เลขที่ 33/4 ถนนพระราม 9 แขวงห้วยขวาง เขตห้วยขวาง กรุงเทพฯ 10310  โทรศัพท์       0-2123-1234      โทรสาร  www.etda.or.th เลขที่ประจําตัวผู้เสียภาษี (ของสพธอ.) 0994000789637',\n",
       " 'AWwSsa  www.etda.or.th  ใบสิ่งซื้อ/จ้าง  เลขที่ 06401806 วันที่        22/09/2021  หน้า      1 จาก 1']"
      ]
     },
     "execution_count": 6,
     "metadata": {},
     "output_type": "execute_result"
    }
   ],
   "source": [
    "ocr_ls"
   ]
  },
  {
   "cell_type": "code",
   "execution_count": 7,
   "id": "ff6ecd46",
   "metadata": {},
   "outputs": [
    {
     "name": "stdout",
     "output_type": "stream",
     "text": [
      "AWwSsa  www.etda.or.th  ใบสิ่งซื้อ/จ้าง  เลขที่ 06401806 วันที่        22/09/2021  หน้า      1 จาก 1\n"
     ]
    }
   ],
   "source": [
    "print(ocr_crop)"
   ]
  },
  {
   "cell_type": "code",
   "execution_count": 8,
   "id": "b81d8d3c",
   "metadata": {},
   "outputs": [],
   "source": [
    "#regex\n",
    "def regex_str(regex_,string_):\n",
    "    result = re.search(regex_, string_)\n",
    "    if result == None:\n",
    "        return \"n/a\"\n",
    "    return result[0]"
   ]
  },
  {
   "cell_type": "code",
   "execution_count": 9,
   "id": "c256e005",
   "metadata": {},
   "outputs": [
    {
     "data": {
      "text/plain": [
       "'บริษัท ไทยไลฟ์สตรีมเอกซ์ จํากัด  1201/44 ซอยลาดพร้าว 94 (ปัญจมิตร) แขวงพลับพลา เขต วังทองหลาง กรุงเทพฯ 10310'"
      ]
     },
     "execution_count": 9,
     "metadata": {},
     "output_type": "execute_result"
    }
   ],
   "source": [
    "seller = regex_str(r'(บริษัท|อาคาร|เลขที่|\\d).* \\b[0-9]{5}\\b', ocr_ls[0])\n",
    "seller"
   ]
  },
  {
   "cell_type": "code",
   "execution_count": 10,
   "id": "05859d2a",
   "metadata": {},
   "outputs": [
    {
     "data": {
      "text/plain": [
       "'อาคารเดอะ ไนน์ ทาวเวอร์ แกรนด์ พระรามเก้า (อาคารบี) ชั้น 20-22 เลขที่ 33/4 ถนนพระราม 9 แขวงห้วยขวาง เขตห้วยขวาง กรุงเทพฯ 10310'"
      ]
     },
     "execution_count": 10,
     "metadata": {},
     "output_type": "execute_result"
    }
   ],
   "source": [
    "address = regex_str(r'(บริษัท|อาคาร|เลขที่|\\d).* \\b[0-9]{5}\\b', ocr_ls[1])\n",
    "address"
   ]
  },
  {
   "cell_type": "code",
   "execution_count": 11,
   "id": "1d5aa2e2",
   "metadata": {},
   "outputs": [
    {
     "data": {
      "text/plain": [
       "'เลขที่ 06401806 '"
      ]
     },
     "execution_count": 11,
     "metadata": {},
     "output_type": "execute_result"
    }
   ],
   "source": [
    "doc_no = regex_str(r'(เลขที่|\\d).* [0-9]{4,} ',ocr_ls[2])\n",
    "doc_no"
   ]
  },
  {
   "cell_type": "code",
   "execution_count": 12,
   "id": "4c2a7468",
   "metadata": {},
   "outputs": [],
   "source": [
    "#save dict\n",
    "dt_schema = {}\n",
    "dt_schema = {'type' : 'string',\n",
    "            'seller' : seller,\n",
    "            'address' : address,\n",
    "            'doc_no' : doc_no}"
   ]
  },
  {
   "cell_type": "code",
   "execution_count": 13,
   "id": "e4202343",
   "metadata": {},
   "outputs": [
    {
     "data": {
      "text/plain": [
       "{'type': 'string',\n",
       " 'seller': 'บริษัท ไทยไลฟ์สตรีมเอกซ์ จํากัด  1201/44 ซอยลาดพร้าว 94 (ปัญจมิตร) แขวงพลับพลา เขต วังทองหลาง กรุงเทพฯ 10310',\n",
       " 'address': 'อาคารเดอะ ไนน์ ทาวเวอร์ แกรนด์ พระรามเก้า (อาคารบี) ชั้น 20-22 เลขที่ 33/4 ถนนพระราม 9 แขวงห้วยขวาง เขตห้วยขวาง กรุงเทพฯ 10310',\n",
       " 'doc_no': 'เลขที่ 06401806 '}"
      ]
     },
     "execution_count": 13,
     "metadata": {},
     "output_type": "execute_result"
    }
   ],
   "source": [
    "dt_schema"
   ]
  },
  {
   "cell_type": "code",
   "execution_count": 14,
   "id": "517c305a",
   "metadata": {},
   "outputs": [],
   "source": [
    "# put in csv\n",
    "file_dir = '/Users/nichada/MyCode/Etda/pan-OCR/images/ocr_schema'\n",
    "if not os.path.exists(file_dir):\n",
    "        os.mkdir(file_dir)\n",
    "        \n",
    "t = file_dir + '/P-150schm'\n",
    "dt = dt_schema\n",
    "\n",
    "with open(t+'.csv', \"w\") as csv_file:\n",
    "    writer = csv.writer(csv_file)\n",
    "    for c, values in dt.items():\n",
    "        writer.writerow([c, values])"
   ]
  },
  {
   "cell_type": "code",
   "execution_count": null,
   "id": "c4a74234",
   "metadata": {},
   "outputs": [],
   "source": []
  },
  {
   "cell_type": "code",
   "execution_count": null,
   "id": "c2952419",
   "metadata": {},
   "outputs": [],
   "source": []
  },
  {
   "cell_type": "code",
   "execution_count": null,
   "id": "6eda69b3",
   "metadata": {},
   "outputs": [],
   "source": []
  },
  {
   "cell_type": "code",
   "execution_count": null,
   "id": "a9361f6c",
   "metadata": {},
   "outputs": [],
   "source": []
  },
  {
   "cell_type": "code",
   "execution_count": null,
   "id": "d4deec17",
   "metadata": {},
   "outputs": [],
   "source": []
  },
  {
   "cell_type": "code",
   "execution_count": null,
   "id": "2a507caf",
   "metadata": {},
   "outputs": [],
   "source": []
  },
  {
   "cell_type": "markdown",
   "id": "e0834658",
   "metadata": {},
   "source": [
    "## (Extra) Save the cropped zone"
   ]
  },
  {
   "cell_type": "markdown",
   "id": "482bf13e",
   "metadata": {},
   "source": [
    "- note : not finished"
   ]
  },
  {
   "cell_type": "code",
   "execution_count": null,
   "id": "eeae7291",
   "metadata": {},
   "outputs": [],
   "source": [
    "def crop_ocrzone_n_save(im, corr_ls, foldername):\n",
    "    cropfilename_ls = []\n",
    "    for index,corr in enumerate(corr_ls):\n",
    "        x,y,w,h = corr\n",
    "\n",
    "        # crop image\n",
    "        cropped = im[y :y +  h , x : x + w]\n",
    "\n",
    "        # save crop path\n",
    "        if not os.path.exists(f'images/{foldername}'):\n",
    "            os.mkdir(f'images/{foldername}')\n",
    "\n",
    "        s = f'images/{foldername}/crop_{index}.jpg'\n",
    "        cropfilename_ls.append(s)\n",
    "        \n",
    "        cv2.imwrite(s , cropped)\n",
    "        \n",
    "        return cropfilename_ls"
   ]
  },
  {
   "cell_type": "code",
   "execution_count": null,
   "id": "55ce6f2e",
   "metadata": {},
   "outputs": [],
   "source": [
    "seller_crop = crop_ocrzone_n_save(im,corr_ls, 'ocr_zone')"
   ]
  },
  {
   "cell_type": "code",
   "execution_count": null,
   "id": "cb5cbffc",
   "metadata": {},
   "outputs": [],
   "source": [
    "print(seller_crop)"
   ]
  },
  {
   "cell_type": "code",
   "execution_count": null,
   "id": "b0f931de",
   "metadata": {},
   "outputs": [],
   "source": [
    "r = '/Users/nichada/MyCode/Etda/pan-OCR/'+seller_crop[0]\n",
    "seller_im = cv2.imread(r)\n"
   ]
  },
  {
   "cell_type": "code",
   "execution_count": null,
   "id": "9671afd6",
   "metadata": {},
   "outputs": [],
   "source": [
    "seller_con, seller_hier = make_contour(seller_im, cv2.RETR_CCOMP)"
   ]
  },
  {
   "cell_type": "code",
   "execution_count": null,
   "id": "8a471a8e",
   "metadata": {},
   "outputs": [],
   "source": [
    "print(seller_hier[0])"
   ]
  },
  {
   "cell_type": "code",
   "execution_count": null,
   "id": "73f0b629",
   "metadata": {},
   "outputs": [],
   "source": [
    "seller_im_copy = seller_im.copy()\n",
    "#set contour here\n",
    "contours= seller_con\n",
    "\n",
    "\n",
    "for index,c in enumerate(seller_con[0][10:]):\n",
    "    x,y,w,h = cv2.boundingRect(c)\n",
    "    cv2.rectangle(seller_im_copy, (x, y), (x + w, y + h), (36,255,12), 2)\n",
    "    cv2.imshow('crop', seller_im_copy)\n",
    "    cv2.waitKey(0)\n",
    "    cv2.destroyAllWindows() # destroys the window showing image\n",
    "    cv2.waitKey(1) #for mac OS"
   ]
  },
  {
   "cell_type": "code",
   "execution_count": null,
   "id": "01938900",
   "metadata": {},
   "outputs": [],
   "source": [
    "seller_im_copy = seller_im.copy()\n",
    "\n",
    "x,y,w,h = 3, -1, -1, 1\n",
    "cv2.rectangle(seller_im_copy, (x, y), (x + w, y + h), (36,255,12), 2)\n",
    "cv2.imshow('crop', seller_im_copy)\n",
    "cv2.waitKey(0)\n",
    "cv2.destroyAllWindows() # destroys the window showing image\n",
    "cv2.waitKey(1) #for mac OS"
   ]
  },
  {
   "cell_type": "code",
   "execution_count": null,
   "id": "59f6b75f",
   "metadata": {},
   "outputs": [],
   "source": []
  }
 ],
 "metadata": {
  "kernelspec": {
   "display_name": "Python 3 (ipykernel)",
   "language": "python",
   "name": "python3"
  },
  "language_info": {
   "codemirror_mode": {
    "name": "ipython",
    "version": 3
   },
   "file_extension": ".py",
   "mimetype": "text/x-python",
   "name": "python",
   "nbconvert_exporter": "python",
   "pygments_lexer": "ipython3",
   "version": "3.8.12"
  },
  "toc": {
   "base_numbering": 1,
   "nav_menu": {},
   "number_sections": true,
   "sideBar": true,
   "skip_h1_title": false,
   "title_cell": "Table of Contents",
   "title_sidebar": "Contents",
   "toc_cell": false,
   "toc_position": {},
   "toc_section_display": true,
   "toc_window_display": false
  }
 },
 "nbformat": 4,
 "nbformat_minor": 5
}
