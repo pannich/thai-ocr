{
 "cells": [
  {
   "cell_type": "markdown",
   "id": "05f75545",
   "metadata": {},
   "source": [
    "### prerequisit"
   ]
  },
  {
   "cell_type": "code",
   "execution_count": 2,
   "id": "50849b3f",
   "metadata": {},
   "outputs": [],
   "source": [
    "import pdf2image\n",
    "try:\n",
    "    from PIL import Image\n",
    "except ImportError:\n",
    "    import Image\n",
    "import pytesseract\n",
    "from pytesseract import Output\n",
    "\n",
    "import os\n",
    "import matplotlib.pyplot as plt\n",
    "import matplotlib.image as mpimg\n",
    "import cv2\n",
    "import numpy as np"
   ]
  },
  {
   "cell_type": "code",
   "execution_count": 3,
   "id": "38cd8c81",
   "metadata": {},
   "outputs": [],
   "source": [
    "def ocr_core(file):\n",
    "    text = pytesseract.image_to_string(file,lang='tha+tha4',config='-c preserve_interword_spaces=1')\n",
    "    return text"
   ]
  },
  {
   "cell_type": "markdown",
   "id": "ab5e1336",
   "metadata": {},
   "source": [
    "### ocr to string"
   ]
  },
  {
   "cell_type": "code",
   "execution_count": 16,
   "id": "8100ada2",
   "metadata": {
    "collapsed": true
   },
   "outputs": [
    {
     "name": "stdout",
     "output_type": "stream",
     "text": [
      "๔๙๑๒๐๒๒\n",
      "\n",
      "ที่ ดศ (สพธอ) ๕๓๓.๐๒๐/ว.ซ๕                           สํานักงานพัฒนาธุรกรรมทางอิเล็กทรอนิกส์\n",
      "อาคารเตอะ ไนน์ ทาวเวอร์ แกรนต์ พระรามเก้า (อาคารปี)\n",
      "ขั้น ๒๑ เลขที่ ๓๓/๕ ถนนพระราม ๕ แขวงห้วยขวาง\n",
      "เขตห้วยขวาง กรุงเทพมหานคร ๑๐๓๓๐\n",
      "\n",
      "๒๕ มกราคม ๒๕๒๕\n",
      "\n",
      "เรื่อง        เชิญเข้าร่วมกิจกรรมประเมินความเสี่ยงด้านการรักษาความมั่นคงปลอดภัยด้านสารสนเทศของระบบ\n",
      "บริการของหน่วยงานของรัฐ\n",
      "เรียน อธิบตีกรมกิจการสตรีและสถาบันครอบครัว\n",
      "\n",
      "สิ่งที่ส่งมาด้วย รายละเอียดขั้นตอนกิจกรรมประเมินความเสี่ยงด้านการรักษาความมั่นคงปลอดภัยด้าน\n",
      "สารสนเทศของระบบบริการของหน่วยงานของรัฐ\n",
      "\n",
      "้วย สํานักงานพัฒนาธุรกรรมทางอิเล็กทรอนิกส์ หรือ สพธอ. ได้ดําเนินโครงการพัฒนาความ\n",
      "(พร้อมในการรักษาความมั่นคงปลอดภัยด้านสารสนเทศของหน่วยงานของรัฐ โดยมีวัตถุประสงค์เพื่อสนับสนุน\n",
      "การพัฒนาองค์ความรู้ในมาตรฐานด้านเทคนิคด้านการรักษาความมั่นคงปลอดภัยใชเบอร์ของระบบให้บริการของ\n",
      "หน่วยงานของรัฐ โดย สพธอ. ได้ดําเนินการจ้างกิจการค้าร่วม @5 ๐ก5๐(ปันกา เพื่อดําเนินโครงการตังกล่าว\n",
      "ทั้งนี้ กิจกรรมส่วนหนึ่ง คือ กิจกรรมการประเมินความเสี่ยงต้านเทคโนโลยีสารสนเทศ และจัดทําคู่มือการประเมิน\n",
      "ความเสี่ยงในองค์กร โดยมีรายละเอียดการดําเนินงานปรากฏตามสิ่งที่ส่งมาด้วย\n",
      "\n",
      "ในการนี้ สพธอ. พิจารณาแล้วเห็นว่า หน่วยงานของท่านซึ่งได้เคยเข้าร่วมกิจกรรมการอบรม\n",
      "เชิงปฏิบัติการด้านมาตรการด้านความปลอดภัยสารสนเทศและการข้อมรับมือภัยคุกคามทางไซเบอร์ ดังนั้น สพธอ.\n",
      "จึงขอเชิญหน่วยงานของท่านเข้าร่วมกิจกรรมประเมินความเสี่ยงด้านการรักษาความมั่นคงปลอดภัยด้านสารสนเทศ\n",
      "'ของระบบบริการของหน่วยงานของรัฐ พร้อมขอความอนุเคราะห์นําเสนอแนวทางการตําเนินงาน พร้อม\n",
      "(ประสานงานร่วมกับผู้แทนหน่วยงานของท่านในการตําเนินกิจกรรมข้างต้นต่อไป ทั้งนี้ ได้มอบหมายให้\n",
      "นางสาวมาริสา ศรีคําซอน เจ้าหน้าที่ประสานงาน กิจการค้าร่วม @5 6๐ก50ยนก หมายเลขโทรศัพท์ ๐๕๒-.\n",
      "'๒๕๓-๒๒๒๕ และนางสาวนพรัตน์ พันธุ์พินิจ เจ้าหน้าที่ สพธอ. หมายเลขโทรศัพท์ ๐๒-๑๒๓-๑๒๓๕ ต่อ ๐๕๕๒.\n",
      "เป็นผู้ประสานงานในรายละเอียดต่อไป\n",
      "\n",
      "ขอแสดงความนับถือ.\n",
      "\n",
      "๔๙\n",
      "\n",
      "(นายศักดิ์ เสกขุนทด)\n",
      "ที่ปรึกษาและรักษาการรองผู้อํานวยการ\n",
      "ปฏิบัติการแทน ผอ.สพชอ.\n",
      "ฝ่ายให้คําปรึกษาและพัฒนาหักษะ\n",
      ".โทร. ๐ ๒๑๒๓ ๑๒๐๕ ต่อ ๕๐๕๕๒ (นหรัตน์)\n",
      "โทรสาร ๐ ๒๓๒๓ ๑๒๐๐\n",
      "๐๙๔๗๐,๐๐๐\n",
      "\n"
     ]
    }
   ],
   "source": [
    "img3 = Image.open('../images/Sarabun-im.png')\n",
    "x1 = pytesseract.image_to_data(img3,lang='tha+eng',config='-c preserve_interword_spaces=1')\n",
    "ocr_str = ocr_core(img3)\n",
    "print(x2)\n",
    "\n",
    "if not os.path.exists('raw'):\n",
    "    os.mkdir('raw')\n",
    "\n",
    "file_name = 'raw/Sarabun-txt-ocr.txt'\n",
    "\n",
    "with open(file_name,'w') as writer:\n",
    "    writer.write(x2)"
   ]
  },
  {
   "cell_type": "code",
   "execution_count": 28,
   "id": "c65b8652",
   "metadata": {
    "collapsed": true
   },
   "outputs": [
    {
     "name": "stdout",
     "output_type": "stream",
     "text": [
      "ที่ ดศ (สพธอ) ๕๑๑.๐๖/ว.๗๘ สำนักงานพัฒนาธุรกรรมทางอิเล็กทรอนิกส์ \n",
      "อาคารเตอะ ไนน์ ทาวเวอร์ แกรนด์ พระรามเก้า (อาคารบี) \n",
      "ชั้น ๒๑ เลขที่ ๓๓/๔ ถนนพระราม ๙ แขวงห้วยขวาง \n",
      "เขตห้วยขวาง กรุงเทพมหานคร ๑๐๓๑๐\n",
      "๒๕ มกราคม ๒๕๖๕\n",
      "เรื่อง\tเชิญเข้าร่วมกิจกรรมประเมินความเสี่ยงด้านการรักษาความมั่นคงปลอดภัยด้านสารสนเทศของระบบ\n",
      "บริการของหน่วยงานของรัฐ\n",
      "เรียน\tอธิบดีกรมกิจการสตรีและสถาบันครอบครัว\n",
      "สิ่งที่ส่งมาด้วย\tรายละเอียดขั้นตอนกิจกรรมประเมินความเสี่ยงด้านการรักษาความมั่นคงปลอดภัยด้วย\n",
      "สารสนเทศของระบบบริการของหน่วยงานของรัฐ\n",
      "ด้วย สำนักงานพัฒนาธุรกรรมทางอิเล็กทรอนิกส์ หรือ สพธอ. ได้ดำเนินโครงการพัฒนาความ \n",
      "พร้อมในการรักษาความมั่นคงปลอดภัยด้านสารสนเทศของหน่วยงานของรัฐ โดยมีวัตถุประสงค์เพื่อสนับสนุน \n",
      "การพัฒนาองค์ความรู้ในมาตรฐานด้านเทคนิคด้านการรักษาความมั่นคงปลอดภัยไซเบอร์ของระบบให้บริการของ \n",
      "หน่วยงานของรัฐ โดย สพธอ. ได้ดำเนินการจ้างกิจการค้าร่วม QS Consortium เพื่อดำเนินโครงการดังกล่าว \n",
      "ทั้งนี้ กิจกรรมส่วนหนึ่ง คือ กิจกรรมการประเมินความเสี่ยงด้านเทคโนโลยีสารสนเทศ และจัดทำคู่มือการประเมิน \n",
      "ความเสี่ยงในองค์กร โดยมีรายละเอียดการดำเนินงานปรากฏตามสี่งที่ส่งมาด้วย\n",
      "ในการนี้ สพธอ. พิจารณาแล้วเห็นว่า หน่วยงานของท่านซึ่งได้เคยเข้าร่วมกิจกรรมการอบรม \n",
      "เชิงปฏิบัติการด้านมาตรการด้านความปลอดภัยสารสนเทศและการซ้อมรับมือภัยคุกคามทางไซเบอร์ ดังนั้น สพธอ. \n",
      "จึงขอเชิญหน่วยงานของท่านเข้าร่วมกิจกรรมประเมินความเสี่ยงด้านการรักษาความมั่นคงปลอดภัยด้านสารสนเทศ \n",
      "ของระบบบริการของหน่วยงานของรัฐ พร้อมขอความอนุเคราะห์นำเสนอแนวทางการดำเนินงาน พร้อม \n",
      "ประสานงานร่วมกับผู้แทนหน่วยงานของท่านในการดำเนินกิจกรรมข้างต้นต่อไป ทั้งนี้ได้มอบหมายให้ \n",
      "นางสาวมาริสา ศรีคำชอน เจ้าหน้าที่ประสานงาน กิจการค้าร่วม QS Consortium หมายเลขโทรศัพท์ ๐๙๒- \n",
      "๖๔๑-๖๖๖๕ และนางสาวนพรัตน์ พันธุพินิจ เจ้าหน้าที่ สพธอ. หมายเลขโทรศัพท์ ๐๒-๑๒๓-๑๒๓๔ ต่อ ๙๐๔๕๒ \n",
      "เป็นผู้ประสานงานในรายละเอียดต่อไป\n",
      "ขอแสดงความนับถือ\n",
      "(นายศักดิ์ เสกขุนทด)\n",
      "ที่ปรึกษาและรักษาการรองผู้อำนวยการ ",
      "ปฏิบัติการแทน ผอ.สพธอ.\n",
      "ฝ่ายให้คำปรึกษาและพัฒนาทักษะ\n",
      "โทร. ๐ ๒๑๒๓ ๑๒๐๔ ต่อ ๙๐๔๕๒ (นพรัตน์)\n",
      "โทรสาร ๐ ๒๑๒๓ ๑๒๐๐\n",
      "e-Mail: noparat@etda.or.th\n"
     ]
    }
   ],
   "source": [
    "with open('/Users/nichada/MyCode/Etda/pan-OCR/images/saraban1-master.txt','r') as reader:\n",
    "    master = reader.read()\n",
    "    print(master)"
   ]
  },
  {
   "cell_type": "code",
   "execution_count": 29,
   "id": "9bcea50a",
   "metadata": {},
   "outputs": [
    {
     "ename": "TypeError",
     "evalue": "unsupported operand type(s) for -: 'str' and 'str'",
     "output_type": "error",
     "traceback": [
      "\u001b[0;31m---------------------------------------------------------------------------\u001b[0m",
      "\u001b[0;31mTypeError\u001b[0m                                 Traceback (most recent call last)",
      "Input \u001b[0;32mIn [29]\u001b[0m, in \u001b[0;36m<cell line: 1>\u001b[0;34m()\u001b[0m\n\u001b[0;32m----> 1\u001b[0m \u001b[43mmaster\u001b[49m\u001b[38;5;241;43m-\u001b[39;49m\u001b[43mocr_str\u001b[49m\n",
      "\u001b[0;31mTypeError\u001b[0m: unsupported operand type(s) for -: 'str' and 'str'"
     ]
    }
   ],
   "source": [
    "master-ocr_str"
   ]
  },
  {
   "cell_type": "code",
   "execution_count": 104,
   "id": "dda182f5",
   "metadata": {},
   "outputs": [],
   "source": [
    "#test diff\n",
    "case_a = '''ที่ ดศ (สพธอ) ๕๑๑.๐๖/ว.๗๘ สำนักงานพัฒนาธุรกรรมทางอิเล็กทรอนิกส์ \n",
    "'''\n",
    "case_b = '''๔๙๑๒๐๒๒\n",
    "\n",
    "ที่ ดศ (สพธอ) ๕๓๓.๐๒๐/ว.ซ๕                           สํานักงานพัฒนาธุรกรรมทางอิเล็กทรอนิกส์\n",
    "'''\n",
    "ocr_diff_clean = []\n",
    "ocr_diff = [li for li in difflib.ndiff(case_a, case_b) if li[0] != ' '] #not keep those that have space on the first index\n",
    "for li in ocr_diff:\n",
    "    if '\\n' not in li:\n",
    "        if li[2] != ' ':\n",
    "            ocr_diff_clean.append(li)"
   ]
  },
  {
   "cell_type": "markdown",
   "id": "8387f104",
   "metadata": {},
   "source": [
    "⚠️ note : but can't tell the substitute, missing or junk from ocr_diff_clean "
   ]
  },
  {
   "cell_type": "code",
   "execution_count": 105,
   "id": "070607e7",
   "metadata": {},
   "outputs": [
    {
     "data": {
      "text/plain": [
       "' '"
      ]
     },
     "execution_count": 105,
     "metadata": {},
     "output_type": "execute_result"
    }
   ],
   "source": [
    "ocr_diff[-1][1]"
   ]
  },
  {
   "cell_type": "code",
   "execution_count": 106,
   "id": "e9c2956c",
   "metadata": {},
   "outputs": [
    {
     "name": "stdout",
     "output_type": "stream",
     "text": [
      "['+ ๔', '+ ๙', '+ ๑', '+ ๒', '+ ๐', '+ ๒', '+ ๒', '+ \\n', '+ \\n', '- ๑', '- ๑', '+ ๓', '+ ๓', '- ๖', '+ ๒', '+ ๐', '- ๗', '- ๘', '+ ซ', '+ ๕', '+  ', '+  ', '+  ', '+  ', '+  ', '+  ', '+  ', '+  ', '+  ', '+  ', '+  ', '+  ', '+  ', '+  ', '+  ', '+  ', '+  ', '+  ', '+  ', '+  ', '+  ', '+  ', '+  ', '+  ', '+  ', '+  ', '- ำ', '+ ํ', '+ า', '-  ']\n"
     ]
    }
   ],
   "source": [
    "print(ocr_diff)"
   ]
  },
  {
   "cell_type": "code",
   "execution_count": 107,
   "id": "f2a666e3",
   "metadata": {},
   "outputs": [
    {
     "data": {
      "text/plain": [
       "21"
      ]
     },
     "execution_count": 107,
     "metadata": {},
     "output_type": "execute_result"
    }
   ],
   "source": [
    "len(ocr_diff_clean)"
   ]
  },
  {
   "cell_type": "code",
   "execution_count": 108,
   "id": "d2e77ef6",
   "metadata": {
    "collapsed": true
   },
   "outputs": [
    {
     "data": {
      "text/plain": [
       "['+ ๔',\n",
       " '+ ๙',\n",
       " '+ ๑',\n",
       " '+ ๒',\n",
       " '+ ๐',\n",
       " '+ ๒',\n",
       " '+ ๒',\n",
       " '- ๑',\n",
       " '- ๑',\n",
       " '+ ๓',\n",
       " '+ ๓',\n",
       " '- ๖',\n",
       " '+ ๒',\n",
       " '+ ๐',\n",
       " '- ๗',\n",
       " '- ๘',\n",
       " '+ ซ',\n",
       " '+ ๕',\n",
       " '- ำ',\n",
       " '+ ํ',\n",
       " '+ า']"
      ]
     },
     "execution_count": 108,
     "metadata": {},
     "output_type": "execute_result"
    }
   ],
   "source": [
    "ocr_diff_clean"
   ]
  },
  {
   "cell_type": "markdown",
   "id": "c733b77b",
   "metadata": {},
   "source": [
    "next, can use master and ocr_str instead of case_a and case_b"
   ]
  },
  {
   "cell_type": "markdown",
   "id": "da185ee2",
   "metadata": {},
   "source": [
    "### Find % difference\n",
    "- note that I didn't categorise the substitues, insertion, missing"
   ]
  },
  {
   "cell_type": "code",
   "execution_count": 111,
   "id": "8889eb5f",
   "metadata": {},
   "outputs": [
    {
     "name": "stdout",
     "output_type": "stream",
     "text": [
      "32.3\n"
     ]
    }
   ],
   "source": [
    "diff = (len(ocr_diff_clean) / len(case_a))*100\n",
    "print(round(diff,1))"
   ]
  },
  {
   "cell_type": "code",
   "execution_count": 114,
   "id": "de76112d",
   "metadata": {},
   "outputs": [
    {
     "data": {
      "text/plain": [
       "67.7"
      ]
     },
     "execution_count": 114,
     "metadata": {},
     "output_type": "execute_result"
    }
   ],
   "source": [
    "min_accuracy = 100 - diff\n",
    "round(min_accuracy,1)"
   ]
  },
  {
   "cell_type": "code",
   "execution_count": null,
   "id": "c63f0e85",
   "metadata": {},
   "outputs": [],
   "source": []
  }
 ],
 "metadata": {
  "kernelspec": {
   "display_name": "Python 3 (ipykernel)",
   "language": "python",
   "name": "python3"
  },
  "language_info": {
   "codemirror_mode": {
    "name": "ipython",
    "version": 3
   },
   "file_extension": ".py",
   "mimetype": "text/x-python",
   "name": "python",
   "nbconvert_exporter": "python",
   "pygments_lexer": "ipython3",
   "version": "3.8.12"
  },
  "toc": {
   "base_numbering": 1,
   "nav_menu": {},
   "number_sections": true,
   "sideBar": true,
   "skip_h1_title": false,
   "title_cell": "Table of Contents",
   "title_sidebar": "Contents",
   "toc_cell": false,
   "toc_position": {},
   "toc_section_display": true,
   "toc_window_display": false
  }
 },
 "nbformat": 4,
 "nbformat_minor": 5
}
