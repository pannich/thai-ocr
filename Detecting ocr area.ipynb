{
 "cells": [
  {
   "cell_type": "code",
   "execution_count": 210,
   "id": "7341e4f6",
   "metadata": {},
   "outputs": [],
   "source": [
    "import pdf2image\n",
    "try:\n",
    "    from PIL import Image\n",
    "except ImportError:\n",
    "    import Image\n",
    "import pytesseract\n",
    "from pytesseract import Output\n",
    "\n",
    "import os\n",
    "import matplotlib.pyplot as plt\n",
    "import matplotlib.image as mpimg\n",
    "import cv2\n",
    "import numpy as np\n",
    "import csv\n"
   ]
  },
  {
   "cell_type": "code",
   "execution_count": 10,
   "id": "075a2ebc",
   "metadata": {},
   "outputs": [],
   "source": [
    "#convert pdf to img PIL format\n",
    "def pdf_to_img(pdf_file):\n",
    "    return pdf2image.convert_from_path(pdf_file)\n",
    "def ocr_core(file):\n",
    "    text = pytesseract.image_to_string(file,lang='tha+tha4',config='-c preserve_interword_spaces=1')\n",
    "    return text"
   ]
  },
  {
   "cell_type": "markdown",
   "id": "706ca688",
   "metadata": {},
   "source": [
    "# Detecting paragraphs and send to OCR\n"
   ]
  },
  {
   "cell_type": "code",
   "execution_count": 16,
   "id": "03ac5719",
   "metadata": {},
   "outputs": [
    {
     "data": {
      "text/plain": [
       "-1"
      ]
     },
     "execution_count": 16,
     "metadata": {},
     "output_type": "execute_result"
    }
   ],
   "source": [
    "file_name = 'images/PO-im'\n",
    "ext = '.jpg'\n",
    "\n",
    "im = cv2.imread(file_name+ext)\n",
    "\n",
    "img2gray = cv2.cvtColor(im, cv2.COLOR_BGR2GRAY)\n",
    "blur = cv2.GaussianBlur(img2gray, (7,7), 0)\n",
    "\n",
    "ret, mask = cv2.threshold(blur, 0, 255, cv2.THRESH_BINARY_INV + cv2.THRESH_OTSU)\n",
    "\n",
    "kernel = cv2.getStructuringElement(cv2.MORPH_RECT, (2,2))\n",
    "\n",
    "dilation = cv2.dilate(mask,kernel,iterations = 1)\n",
    "\n",
    "\n",
    "\n",
    "contours, hierarchy = cv2.findContours(dilation, mode=cv2.RETR_EXTERNAL, method=cv2.CHAIN_APPROX_SIMPLE)\n",
    "\n",
    "\n",
    "\n",
    "\n",
    "for index,c in enumerate(contours):\n",
    "    x,y,w,h = cv2.boundingRect(c)\n",
    "    cv2.rectangle(im, (x, y), (x + w, y + h), (36,255,12), 2)\n",
    "    \n",
    "#     # crop image and send to OCR  , false detected will return no text \n",
    "    \n",
    "#     cropped = im[y :y +  h , x : x + w]\n",
    "    \n",
    "#     print(index)\n",
    "\n",
    "#     if not os.path.exists(file_name):\n",
    "#         os.mkdir(file_name)\n",
    "#     s = file_name + '/crop_' + str(index) + '.jpg' \n",
    "#     cv2.imwrite(s , cropped)\n",
    "    \n",
    "#     # ocr and save .txt\n",
    "#     ocr_res = ocr_core(s)\n",
    "\n",
    "#     t = file_name + '/txt_' + str(index)\n",
    "\n",
    "#     with open(t, \"w\") as text_file:\n",
    "#         text_file.write(ocr_res)\n",
    "\n",
    "\n",
    "#     print(ocr_res)\n",
    "\n",
    "    \n",
    "cv2.imshow('thresh', mask)\n",
    "cv2.imshow('dilation', dilation)\n",
    "cv2.imshow('im', im)\n",
    "\n",
    "\n",
    "cv2.waitKey(0)\n",
    "cv2.destroyAllWindows() # destroys the window showing image\n",
    "cv2.waitKey(1) #for mac OS"
   ]
  },
  {
   "cell_type": "markdown",
   "id": "e0a670d8",
   "metadata": {},
   "source": [
    "### Test storing arrays\n",
    "- Read the image, crop the area and send to ocr.  The result of ocr is the list of strings.  \n",
    "- I also want to be able to locate the keywords on the image, so I save the cooridinate (x,y,w,h) with the strings in dictionary and store in .csv\n",
    "- Then, I can search keywords in dictionary and highlight the boundary box on the image. \n"
   ]
  },
  {
   "cell_type": "code",
   "execution_count": 271,
   "id": "1af8180b",
   "metadata": {},
   "outputs": [
    {
     "data": {
      "text/plain": [
       "-1"
      ]
     },
     "execution_count": 271,
     "metadata": {},
     "output_type": "execute_result"
    }
   ],
   "source": [
    "file_name = 'images/PO-im'\n",
    "ext = '.jpg'\n",
    "invoice = cv2.imread(file_name+ext)\n",
    "invoice_copy = cv2.imread(file_name+ext, cv2.IMREAD_GRAYSCALE)\n",
    "\n",
    "# Apply contrast\n",
    "(thresh, black_white_img) = cv2.threshold(invoice_copy, 127, 255, cv2.THRESH_BINARY)\n",
    "\n",
    "# Apply Gaussian blur for smoothing to rid the image of artifacts\n",
    "blur = cv2.GaussianBlur(black_white_img,(9,9),0)\n",
    "\n",
    "# Apply threshold to bring contours to prominence\n",
    "th = cv2.adaptiveThreshold(blur, 255, cv2.ADAPTIVE_THRESH_GAUSSIAN_C, cv2.THRESH_BINARY, 115, 1)\n",
    "\n",
    "ret,thresh = cv2.threshold(th,127,255,0)\n",
    "\n",
    "# Read our original invoice image to show the contours drawn in green\n",
    "original_invoice_img = cv2.imread(file_name+ext)\n",
    "\n",
    "# Find the contours in the image and store them in an array\n",
    "contours, hierarchy = cv2.findContours(thresh, cv2.RETR_TREE, cv2.CHAIN_APPROX_SIMPLE)\n",
    "invoice_contours = cv2.drawContours(original_invoice_img, contours, -1, (0, 255, 0), 3)\n",
    "\n",
    "# Show the contours\n",
    "# # cv2.imshow('Contours', invoice_contours)\n",
    "# cv2.waitKey(0)\n",
    "# cv2.destroyAllWindows() # destroys the window showing image\n",
    "# cv2.waitKey(1) #for mac OS\n",
    "\n",
    "# Iterate through our contours\n",
    "index = 0\n",
    "dt = {}\n",
    "for index,c in enumerate(contours):\n",
    "    x,y,w,h = cv2.boundingRect(c)\n",
    "    cv2.rectangle(invoice_copy, (x, y), (x + w, y + h), (36,255,12), 2)\n",
    "    \n",
    "    # crop image and send to OCR  , false detected will return no text \n",
    "    \n",
    "    cropped = invoice[y :y +  h , x : x + w]\n",
    "    \n",
    "    if not os.path.exists(file_name):\n",
    "        os.mkdir(file_name)\n",
    "    s = file_name + '/crop_' + str(index) + '.jpg' \n",
    "    cv2.imwrite(s , cropped)\n",
    "    \n",
    "    # ocr and save .txt\n",
    "    raw_values_area = ocr_core(s).replace(\"  \", \"\").split('\\n')\n",
    "    \n",
    "    ##cleaning\n",
    "    for i,value in enumerate(raw_values_area):\n",
    "        if value == '' or value == ' ' :\n",
    "            ## store area, corr in dict\n",
    "            raw_values_area.pop(i)\n",
    "    \n",
    "    corr = (x,y,w,h)\n",
    "    \n",
    "    if raw_values_area != []:\n",
    "        dt[corr] = raw_values_area    \n",
    "\n",
    "\n",
    "t = file_name + '/txt_raw' \n",
    "\n",
    "with open(t+'.csv', \"w\") as csv_file:\n",
    "    writer = csv.writer(csv_file)\n",
    "    for c, values in dt.items():\n",
    "        writer.writerow([c, values])\n",
    "\n",
    "\n",
    "cv2.imshow('crop', invoice_copy)\n",
    "cv2.waitKey(0)\n",
    "cv2.destroyAllWindows() # destroys the window showing image\n",
    "cv2.waitKey(1) #for mac OS\n",
    "#     print(raw_text_values)\n"
   ]
  },
  {
   "cell_type": "code",
   "execution_count": 295,
   "id": "60b994a7",
   "metadata": {},
   "outputs": [],
   "source": [
    "# search the coordinate of the keyword\n",
    "def search_ocr(keyword,dict_):\n",
    "    val_list = list(dt.values())\n",
    "    key_list = list(dt.keys())\n",
    "    corr_ls = []\n",
    "\n",
    "    for area in dt.values():\n",
    "        position = val_list.index(area)\n",
    "        for sent in area:\n",
    "            if keyword in sent:\n",
    "                corr = key_list[position]\n",
    "                if corr not in corr_ls:\n",
    "                    corr_ls.append(key_list[position]) \n",
    "    return corr_ls\n",
    "\n",
    "corr_ls_1 = search_ocr('ซื้อ',dt)"
   ]
  },
  {
   "cell_type": "code",
   "execution_count": 296,
   "id": "2da60930",
   "metadata": {
    "scrolled": true
   },
   "outputs": [
    {
     "name": "stdout",
     "output_type": "stream",
     "text": [
      "(0, 0, 595, 841)\n",
      "(92, 535, 53, 13)\n",
      "(459, 72, 77, 18)\n"
     ]
    }
   ],
   "source": [
    "for x in corr_ls_1:\n",
    "    print(x)"
   ]
  },
  {
   "cell_type": "code",
   "execution_count": 297,
   "id": "8c2fac57",
   "metadata": {},
   "outputs": [
    {
     "name": "stderr",
     "output_type": "stream",
     "text": [
      "[ WARN:0@16189.897] global /Users/runner/work/opencv-python/opencv-python/opencv/modules/imgcodecs/src/loadsave.cpp (239) findDecoder imread_('images/PO-im/crop_145.jpg.jpg'): can't open/read file: check file path/integrity\n"
     ]
    }
   ],
   "source": [
    "# now, highlight keyword area found on the image\n",
    "def find_area(corr_ls,file_):\n",
    "    global image\n",
    "    global cache\n",
    "    image = cv2.imread(file_)\n",
    "    \n",
    "    cache = image.copy()\n",
    "    # ignore first crop as it refers to the whole page\n",
    "    invoice = cv2.imread(file_name+ext)\n",
    "    \n",
    "    for i,corr in enumerate(corr_ls[1:]):\n",
    "        image = cache.copy()\n",
    "        x,y,w,h = corr\n",
    "        cv2.rectangle(image, (x, y), (x + w, y + h), (36,255,12), 2)\n",
    "        cv2.imshow('crop', image)\n",
    "        cv2.waitKey(0)\n",
    "        cv2.destroyAllWindows() # destroys the window showing image\n",
    "        cv2.waitKey(1) #for mac OS\n",
    "    \n",
    "find_area(corr_ls_1,'images/PO-im.jpg')"
   ]
  },
  {
   "cell_type": "code",
   "execution_count": 158,
   "id": "4af15c22",
   "metadata": {},
   "outputs": [],
   "source": []
  },
  {
   "cell_type": "code",
   "execution_count": null,
   "id": "070fb02e",
   "metadata": {},
   "outputs": [],
   "source": []
  },
  {
   "cell_type": "code",
   "execution_count": null,
   "id": "77da8fa1",
   "metadata": {},
   "outputs": [],
   "source": []
  },
  {
   "cell_type": "code",
   "execution_count": null,
   "id": "6ea14077",
   "metadata": {},
   "outputs": [],
   "source": []
  },
  {
   "cell_type": "code",
   "execution_count": null,
   "id": "d3d30678",
   "metadata": {},
   "outputs": [],
   "source": []
  },
  {
   "cell_type": "code",
   "execution_count": null,
   "id": "e0446b3d",
   "metadata": {},
   "outputs": [],
   "source": []
  },
  {
   "cell_type": "code",
   "execution_count": null,
   "id": "424c2026",
   "metadata": {},
   "outputs": [],
   "source": []
  },
  {
   "cell_type": "code",
   "execution_count": null,
   "id": "ea64cbf4",
   "metadata": {},
   "outputs": [],
   "source": []
  },
  {
   "cell_type": "markdown",
   "id": "43bcca9f",
   "metadata": {
    "heading_collapsed": true
   },
   "source": [
    "## Read inside the table"
   ]
  },
  {
   "cell_type": "code",
   "execution_count": 124,
   "id": "d4a9ea90",
   "metadata": {
    "hidden": true
   },
   "outputs": [
    {
     "data": {
      "text/plain": [
       "-1"
      ]
     },
     "execution_count": 124,
     "metadata": {},
     "output_type": "execute_result"
    }
   ],
   "source": [
    "file_name = 'images/PO-im'\n",
    "ext = '.jpg'\n",
    "\n",
    "im = cv2.imread(file_name+ext)\n",
    "\n",
    "img2gray = cv2.cvtColor(im, cv2.COLOR_BGR2GRAY)\n",
    "blur = cv2.GaussianBlur(img2gray, (5,5), 0)\n",
    "\n",
    "ret, mask = cv2.threshold(blur, 0, 255, cv2.THRESH_BINARY_INV + cv2.THRESH_OTSU)\n",
    "\n",
    "kernel = cv2.getStructuringElement(cv2.MORPH_RECT, (4,2))\n",
    "\n",
    "dilation = cv2.dilate(mask,kernel,iterations = 1)\n",
    "\n",
    "\n",
    "\n",
    "contours, hierarchy = cv2.findContours(dilation, mode=cv2.RETR_TREE, method=cv2.CHAIN_APPROX_SIMPLE)\n",
    "\n",
    "\n",
    "\n",
    "\n",
    "for index,c in enumerate(contours):\n",
    "    if hierarchy[0][index][2] < 0 : #no child\n",
    "        x,y,w,h = cv2.boundingRect(c)\n",
    "        cv2.rectangle(im, (x, y), (x + w, y + h), (36,255,12), 2)\n",
    "    elif hierarchy[0][index][3] < 0 : #no parents\n",
    "        x,y,w,h = cv2.boundingRect(c)\n",
    "        cv2.rectangle(im, (x, y), (x + w, y + h), (0,0,255), 2)\n",
    "#     else :\n",
    "#         x,y,w,h = cv2.boundingRect(c)\n",
    "#         cv2.rectangle(im, (x, y), (x + w, y + h), (0,0,0), 2)\n",
    "    \n",
    "#     # crop image and send to OCR  , false detected will return no text \n",
    "    \n",
    "#     cropped = im[y :y +  h , x : x + w]\n",
    "    \n",
    "#     print(index)\n",
    "\n",
    "#     if not os.path.exists(file_name):\n",
    "#         os.mkdir(file_name)\n",
    "#     s = file_name + '/crop_' + str(index) + '.jpg' \n",
    "#     cv2.imwrite(s , cropped)\n",
    "    \n",
    "#     # ocr and save .txt\n",
    "#     ocr_res = ocr_core(s)\n",
    "\n",
    "#     t = file_name + '/txt_' + str(index)\n",
    "\n",
    "#     with open(t, \"w\") as text_file:\n",
    "#         text_file.write(ocr_res)\n",
    "\n",
    "\n",
    "#     print(ocr_res)\n",
    "\n",
    "    \n",
    "cv2.imshow('thresh', mask)\n",
    "cv2.imshow('dilation', dilation)\n",
    "cv2.imshow('im', im)\n",
    "\n",
    "\n",
    "cv2.waitKey(0)\n",
    "cv2.destroyAllWindows() # destroys the window showing image\n",
    "cv2.waitKey(1) #for mac OS"
   ]
  },
  {
   "cell_type": "code",
   "execution_count": 80,
   "id": "8ecd3f25",
   "metadata": {
    "hidden": true
   },
   "outputs": [
    {
     "data": {
      "text/plain": [
       "0"
      ]
     },
     "execution_count": 80,
     "metadata": {},
     "output_type": "execute_result"
    }
   ],
   "source": [
    "hierarchy[0][1][3]"
   ]
  },
  {
   "cell_type": "code",
   "execution_count": 38,
   "id": "a223a42b",
   "metadata": {
    "hidden": true
   },
   "outputs": [
    {
     "name": "stdout",
     "output_type": "stream",
     "text": [
      "[[[ 26 683]]\n",
      "\n",
      " [[ 25 684]]\n",
      "\n",
      " [[ 25 825]]\n",
      "\n",
      " [[ 26 825]]\n",
      "\n",
      " [[ 27 826]]\n",
      "\n",
      " [[565 826]]\n",
      "\n",
      " [[567 824]]\n",
      "\n",
      " [[567 684]]\n",
      "\n",
      " [[566 683]]]\n",
      "[[ 99  -1   1  -1]\n",
      " [ 37  -1   2   0]\n",
      " [  3  -1  -1   1]\n",
      " ...\n",
      " [359 357  -1 347]\n",
      " [360 358  -1 347]\n",
      " [ -1 359  -1 347]]\n"
     ]
    }
   ],
   "source": [
    "for component in zip(contours, hierarchy):\n",
    "    currentContour = component[0]\n",
    "    currentHierarchy = component[1]\n",
    "    print(currentContour)\n",
    "    print(currentHierarchy)"
   ]
  },
  {
   "cell_type": "code",
   "execution_count": null,
   "id": "3c555d5d",
   "metadata": {
    "hidden": true
   },
   "outputs": [],
   "source": []
  }
 ],
 "metadata": {
  "kernelspec": {
   "display_name": "Python 3 (ipykernel)",
   "language": "python",
   "name": "python3"
  },
  "language_info": {
   "codemirror_mode": {
    "name": "ipython",
    "version": 3
   },
   "file_extension": ".py",
   "mimetype": "text/x-python",
   "name": "python",
   "nbconvert_exporter": "python",
   "pygments_lexer": "ipython3",
   "version": "3.8.12"
  },
  "toc": {
   "base_numbering": 1,
   "nav_menu": {},
   "number_sections": true,
   "sideBar": true,
   "skip_h1_title": false,
   "title_cell": "Table of Contents",
   "title_sidebar": "Contents",
   "toc_cell": false,
   "toc_position": {},
   "toc_section_display": true,
   "toc_window_display": false
  }
 },
 "nbformat": 4,
 "nbformat_minor": 5
}
