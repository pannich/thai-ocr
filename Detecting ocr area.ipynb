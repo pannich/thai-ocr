{
 "cells": [
  {
   "cell_type": "code",
   "execution_count": 23,
   "id": "3102b774",
   "metadata": {},
   "outputs": [],
   "source": [
    "import pdf2image\n",
    "try:\n",
    "    from PIL import Image\n",
    "except ImportError:\n",
    "    import Image\n",
    "import pytesseract\n",
    "from pytesseract import Output\n",
    "\n",
    "import os\n",
    "import matplotlib.pyplot as plt\n",
    "import matplotlib.image as mpimg\n",
    "import cv2\n",
    "import numpy as np "
   ]
  },
  {
   "cell_type": "code",
   "execution_count": 24,
   "id": "835e42f8",
   "metadata": {},
   "outputs": [],
   "source": [
    "#convert pdf to img PIL format\n",
    "def pdf_to_img(pdf_file):\n",
    "    return pdf2image.convert_from_path(pdf_file)\n",
    "def ocr_core(file):\n",
    "    text = pytesseract.image_to_string(file,lang='tha+tha4',config='-c preserve_interword_spaces=1')\n",
    "    return text"
   ]
  },
  {
   "cell_type": "code",
   "execution_count": 1,
   "id": "d5e56121",
   "metadata": {},
   "outputs": [
    {
     "name": "stdout",
     "output_type": "stream",
     "text": [
      "test\n"
     ]
    }
   ],
   "source": [
    "print('test')"
   ]
  },
  {
   "cell_type": "markdown",
   "id": "be73e0bd",
   "metadata": {},
   "source": [
    "# Detecting paragraphs and send to OCR\n"
   ]
  },
  {
   "cell_type": "code",
   "execution_count": 27,
   "id": "4d266d8e",
   "metadata": {},
   "outputs": [
    {
     "data": {
      "text/plain": [
       "-1"
      ]
     },
     "execution_count": 27,
     "metadata": {},
     "output_type": "execute_result"
    }
   ],
   "source": [
    "file_name = 'images/PO-im'\n",
    "ext = '.jpg'\n",
    "\n",
    "im = cv2.imread(file_name+ext)\n",
    "\n",
    "img2gray = cv2.cvtColor(im, cv2.COLOR_BGR2GRAY)\n",
    "blur = cv2.GaussianBlur(img2gray, (7,7), 0)\n",
    "\n",
    "ret, mask = cv2.threshold(blur, 0, 255, cv2.THRESH_BINARY_INV + cv2.THRESH_OTSU)\n",
    "\n",
    "kernel = cv2.getStructuringElement(cv2.MORPH_RECT, (2,2))\n",
    "\n",
    "dilation = cv2.dilate(mask,kernel,iterations = 1)\n",
    "\n",
    "\n",
    "\n",
    "contours, hierarchy = cv2.findContours(dilation, mode=cv2.RETR_EXTERNAL, method=cv2.CHAIN_APPROX_SIMPLE)\n",
    "\n",
    "\n",
    "\n",
    "\n",
    "for index,c in enumerate(contours):\n",
    "    x,y,w,h = cv2.boundingRect(c)\n",
    "    cv2.rectangle(im, (x, y), (x + w, y + h), (36,255,12), 2)\n",
    "    \n",
    "#     # crop image and send to OCR  , false detected will return no text \n",
    "    \n",
    "#     cropped = im[y :y +  h , x : x + w]\n",
    "    \n",
    "#     print(index)\n",
    "\n",
    "#     if not os.path.exists(file_name):\n",
    "#         os.mkdir(file_name)\n",
    "#     s = file_name + '/crop_' + str(index) + '.jpg' \n",
    "#     cv2.imwrite(s , cropped)\n",
    "    \n",
    "#     # ocr and save .txt\n",
    "#     ocr_res = ocr_core(s)\n",
    "\n",
    "#     t = file_name + '/txt_' + str(index)\n",
    "\n",
    "#     with open(t, \"w\") as text_file:\n",
    "#         text_file.write(ocr_res)\n",
    "\n",
    "\n",
    "#     print(ocr_res)\n",
    "\n",
    "    \n",
    "cv2.imshow('thresh', mask)\n",
    "cv2.imshow('dilation', dilation)\n",
    "cv2.imshow('im', im)\n",
    "\n",
    "\n",
    "cv2.waitKey(0)\n",
    "cv2.destroyAllWindows() # destroys the window showing image\n",
    "cv2.waitKey(1) #for mac OS"
   ]
  },
  {
   "cell_type": "markdown",
   "id": "32f1b154",
   "metadata": {},
   "source": [
    "## Read inside the table"
   ]
  },
  {
   "cell_type": "code",
   "execution_count": 31,
   "id": "12dbbcbc",
   "metadata": {},
   "outputs": [
    {
     "data": {
      "text/plain": [
       "-1"
      ]
     },
     "execution_count": 31,
     "metadata": {},
     "output_type": "execute_result"
    }
   ],
   "source": [
    "file_name = 'images/PO-im'\n",
    "ext = '.jpg'\n",
    "\n",
    "im = cv2.imread(file_name+ext)\n",
    "\n",
    "img2gray = cv2.cvtColor(im, cv2.COLOR_BGR2GRAY)\n",
    "blur = cv2.GaussianBlur(img2gray, (7,7), 0)\n",
    "\n",
    "ret, mask = cv2.threshold(blur, 0, 255, cv2.THRESH_BINARY_INV + cv2.THRESH_OTSU)\n",
    "\n",
    "kernel = cv2.getStructuringElement(cv2.MORPH_RECT, (2,2))\n",
    "\n",
    "dilation = cv2.dilate(mask,kernel,iterations = 1)\n",
    "\n",
    "\n",
    "\n",
    "contours, hierarchy = cv2.findContours(dilation, mode=cv2.RETR_TREE, method=cv2.CHAIN_APPROX_SIMPLE)\n",
    "\n",
    "\n",
    "\n",
    "\n",
    "for index,c in enumerate(contours):\n",
    "    x,y,w,h = cv2.boundingRect(c)\n",
    "    cv2.rectangle(im, (x, y), (x + w, y + h), (36,255,12), 2)\n",
    "    \n",
    "#     # crop image and send to OCR  , false detected will return no text \n",
    "    \n",
    "#     cropped = im[y :y +  h , x : x + w]\n",
    "    \n",
    "#     print(index)\n",
    "\n",
    "#     if not os.path.exists(file_name):\n",
    "#         os.mkdir(file_name)\n",
    "#     s = file_name + '/crop_' + str(index) + '.jpg' \n",
    "#     cv2.imwrite(s , cropped)\n",
    "    \n",
    "#     # ocr and save .txt\n",
    "#     ocr_res = ocr_core(s)\n",
    "\n",
    "#     t = file_name + '/txt_' + str(index)\n",
    "\n",
    "#     with open(t, \"w\") as text_file:\n",
    "#         text_file.write(ocr_res)\n",
    "\n",
    "\n",
    "#     print(ocr_res)\n",
    "\n",
    "    \n",
    "cv2.imshow('thresh', mask)\n",
    "cv2.imshow('dilation', dilation)\n",
    "cv2.imshow('im', im)\n",
    "\n",
    "\n",
    "cv2.waitKey(0)\n",
    "cv2.destroyAllWindows() # destroys the window showing image\n",
    "cv2.waitKey(1) #for mac OS"
   ]
  },
  {
   "cell_type": "code",
   "execution_count": 32,
   "id": "67bdf7ba",
   "metadata": {},
   "outputs": [
    {
     "data": {
      "text/plain": [
       "array([[[ 99,  -1,   1,  -1],\n",
       "        [ 37,  -1,   2,   0],\n",
       "        [  3,  -1,  -1,   1],\n",
       "        ...,\n",
       "        [359, 357,  -1, 347],\n",
       "        [360, 358,  -1, 347],\n",
       "        [ -1, 359,  -1, 347]]], dtype=int32)"
      ]
     },
     "execution_count": 32,
     "metadata": {},
     "output_type": "execute_result"
    }
   ],
   "source": [
    "hierarchy"
   ]
  },
  {
   "cell_type": "code",
   "execution_count": null,
   "id": "6fc532c9",
   "metadata": {},
   "outputs": [],
   "source": []
  }
 ],
 "metadata": {
  "kernelspec": {
   "display_name": "Python 3 (ipykernel)",
   "language": "python",
   "name": "python3"
  },
  "language_info": {
   "codemirror_mode": {
    "name": "ipython",
    "version": 3
   },
   "file_extension": ".py",
   "mimetype": "text/x-python",
   "name": "python",
   "nbconvert_exporter": "python",
   "pygments_lexer": "ipython3",
   "version": "3.8.12"
  },
  "toc": {
   "base_numbering": 1,
   "nav_menu": {},
   "number_sections": true,
   "sideBar": true,
   "skip_h1_title": false,
   "title_cell": "Table of Contents",
   "title_sidebar": "Contents",
   "toc_cell": false,
   "toc_position": {},
   "toc_section_display": true,
   "toc_window_display": false
  }
 },
 "nbformat": 4,
 "nbformat_minor": 5
}
